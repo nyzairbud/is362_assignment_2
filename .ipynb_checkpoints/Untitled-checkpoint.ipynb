{
 "cells": [
  {
   "cell_type": "markdown",
   "metadata": {},
   "source": [
    "Zip allows two iterators of tuples to be paired together."
   ]
  },
  {
   "cell_type": "code",
   "execution_count": 6,
   "metadata": {},
   "outputs": [
    {
     "name": "stdout",
     "output_type": "stream",
     "text": [
      "(('apple', 'corn'), ('pineapple', 'cucumber'), ('orange', 'squash'))\n"
     ]
    }
   ],
   "source": [
    "item_a = (\"apple\", \"pineapple\", \"orange\")\n",
    "item_b = (\"corn\", \"cucumber\", \"squash\", \"carrot\")\n",
    "\n",
    "result = zip(item_a,item_b)\n",
    "ans = tuple(result)\n",
    "print (ans)\n",
    "\n",
    "print(tuple(result))"
   ]
  },
  {
   "cell_type": "markdown",
   "metadata": {},
   "source": [
    "anything extra in the tuples will be ignored and only be paired by the order that they are shown "
   ]
  },
  {
   "cell_type": "code",
   "execution_count": 12,
   "metadata": {},
   "outputs": [
    {
     "name": "stdout",
     "output_type": "stream",
     "text": [
      "(('apple', 'corn'), ('pineapple', 'cucumber'), ('orange', 'squash'))\n",
      "()\n",
      "c = ('apple', 'pineapple', 'orange')\n",
      "v = ('corn', 'cucumber', 'squash')\n"
     ]
    }
   ],
   "source": [
    "item_a = (\"apple\", \"pineapple\", \"orange\")\n",
    "item_b = (\"corn\", \"cucumber\", \"squash\", \"carrot\")\n",
    "\n",
    "result = zip(item_a,item_b)\n",
    "ans = tuple(result)\n",
    "print (ans)\n",
    "\n",
    "print(tuple(result))\n",
    "\n",
    "c, v =  zip(*ans)\n",
    "print('c =', c)\n",
    "print('v =', v)"
   ]
  },
  {
   "cell_type": "markdown",
   "metadata": {},
   "source": [
    "using the * will allow the zip function to work as if it was unzipping. (there is no unzip function in python)."
   ]
  }
 ],
 "metadata": {
  "kernelspec": {
   "display_name": "Python 3",
   "language": "python",
   "name": "python3"
  },
  "language_info": {
   "codemirror_mode": {
    "name": "ipython",
    "version": 3
   },
   "file_extension": ".py",
   "mimetype": "text/x-python",
   "name": "python",
   "nbconvert_exporter": "python",
   "pygments_lexer": "ipython3",
   "version": "3.6.5"
  }
 },
 "nbformat": 4,
 "nbformat_minor": 2
}
